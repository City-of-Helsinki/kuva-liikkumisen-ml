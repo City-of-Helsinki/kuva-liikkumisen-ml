{
 "cells": [
  {
   "cell_type": "code",
   "execution_count": 1,
   "metadata": {
    "gather": {
     "logged": 1701940423831
    },
    "jupyter": {
     "outputs_hidden": false,
     "source_hidden": false
    },
    "nteract": {
     "transient": {
      "deleting": false
     }
    }
   },
   "outputs": [],
   "source": [
    "import matplotlib.pyplot as plt\n",
    "import seaborn as sns"
   ]
  },
  {
   "cell_type": "code",
   "execution_count": 2,
   "metadata": {
    "gather": {
     "logged": 1701940424165
    }
   },
   "outputs": [],
   "source": [
    "import pandas as pd\n",
    "\n",
    "\n",
    "perus_df = pd.read_excel(\"../input/Koulujen_perustiedot_suojattu_200922.xlsx\",engine='openpyxl')\n",
    "pyora_df = pd.read_excel(\"../input/Koulut_pyorapysakointipaikkojen_maarat_suojattu.xlsx\",engine='openpyxl')\n",
    "toiminta_df = pd.read_excel(\"../input/Koulujen_toimintasuunnitelmat_suojattu_2022-2023.xlsx\",engine=\"openpyxl\")\n"
   ]
  },
  {
   "cell_type": "code",
   "execution_count": 3,
   "metadata": {
    "gather": {
     "logged": 1701940424340
    },
    "jupyter": {
     "outputs_hidden": false,
     "source_hidden": false
    },
    "nteract": {
     "transient": {
      "deleting": false
     }
    }
   },
   "outputs": [
    {
     "data": {
      "text/html": [
       "<div>\n",
       "<style scoped>\n",
       "    .dataframe tbody tr th:only-of-type {\n",
       "        vertical-align: middle;\n",
       "    }\n",
       "\n",
       "    .dataframe tbody tr th {\n",
       "        vertical-align: top;\n",
       "    }\n",
       "\n",
       "    .dataframe thead th {\n",
       "        text-align: right;\n",
       "    }\n",
       "</style>\n",
       "<table border=\"1\" class=\"dataframe\">\n",
       "  <thead>\n",
       "    <tr style=\"text-align: right;\">\n",
       "      <th></th>\n",
       "      <th>68</th>\n",
       "      <th>40</th>\n",
       "      <th>76</th>\n",
       "      <th>117</th>\n",
       "    </tr>\n",
       "  </thead>\n",
       "  <tbody>\n",
       "    <tr>\n",
       "      <th>Koulu_ID</th>\n",
       "      <td>196</td>\n",
       "      <td>121</td>\n",
       "      <td>198</td>\n",
       "      <td>170</td>\n",
       "    </tr>\n",
       "    <tr>\n",
       "      <th>Pyöräpysäköintipaikkojen lukumäärä</th>\n",
       "      <td>20.0</td>\n",
       "      <td>8.0</td>\n",
       "      <td>70.0</td>\n",
       "      <td>20.0</td>\n",
       "    </tr>\n",
       "    <tr>\n",
       "      <th>Runkolukittavien pyöräpysäköintipaikkojen määrä</th>\n",
       "      <td>0.0</td>\n",
       "      <td>8.0</td>\n",
       "      <td>0.0</td>\n",
       "      <td>0.0</td>\n",
       "    </tr>\n",
       "    <tr>\n",
       "      <th>Oppilasmäärä</th>\n",
       "      <td>206.0</td>\n",
       "      <td>32.0</td>\n",
       "      <td>137.0</td>\n",
       "      <td>95.0</td>\n",
       "    </tr>\n",
       "    <tr>\n",
       "      <th>Mitoitusvelka A: 1pp/1op</th>\n",
       "      <td>206.0</td>\n",
       "      <td>24.0</td>\n",
       "      <td>137.0</td>\n",
       "      <td>95.0</td>\n",
       "    </tr>\n",
       "    <tr>\n",
       "      <th>Mitoitusvelka B: 1pp/2op</th>\n",
       "      <td>103.0</td>\n",
       "      <td>8.0</td>\n",
       "      <td>68.5</td>\n",
       "      <td>47.5</td>\n",
       "    </tr>\n",
       "    <tr>\n",
       "      <th>Mitoitusvelka C: 1pp/3op</th>\n",
       "      <td>68.666667</td>\n",
       "      <td>2.666667</td>\n",
       "      <td>45.666667</td>\n",
       "      <td>31.666667</td>\n",
       "    </tr>\n",
       "    <tr>\n",
       "      <th>Hankkeella lisättävä runkolukittava kapasiteetti</th>\n",
       "      <td>14.0</td>\n",
       "      <td>NaN</td>\n",
       "      <td>66.0</td>\n",
       "      <td>NaN</td>\n",
       "    </tr>\n",
       "    <tr>\n",
       "      <th>Hankkeella lisättävä runkolukittavien telineiden määrä</th>\n",
       "      <td>7.0</td>\n",
       "      <td>0.0</td>\n",
       "      <td>33.0</td>\n",
       "      <td>0.0</td>\n",
       "    </tr>\n",
       "    <tr>\n",
       "      <th>Hankkeessa poistuvien/korvattavien paikkojen määrä</th>\n",
       "      <td>5.0</td>\n",
       "      <td>0.0</td>\n",
       "      <td>45.0</td>\n",
       "      <td>0.0</td>\n",
       "    </tr>\n",
       "    <tr>\n",
       "      <th>Kokonaiskapasiteetti hankkeen jälkeen</th>\n",
       "      <td>29.0</td>\n",
       "      <td>8.0</td>\n",
       "      <td>91.0</td>\n",
       "      <td>20.0</td>\n",
       "    </tr>\n",
       "    <tr>\n",
       "      <th>Runkolukittavat paikat hankkeen jälkeen</th>\n",
       "      <td>14.0</td>\n",
       "      <td>8.0</td>\n",
       "      <td>66.0</td>\n",
       "      <td>0.0</td>\n",
       "    </tr>\n",
       "  </tbody>\n",
       "</table>\n",
       "</div>"
      ],
      "text/plain": [
       "                                                          68        40   \\\n",
       "Koulu_ID                                                  196       121   \n",
       "Pyöräpysäköintipaikkojen lukumäärä                       20.0       8.0   \n",
       "Runkolukittavien pyöräpysäköintipaikkojen määrä           0.0       8.0   \n",
       "Oppilasmäärä                                            206.0      32.0   \n",
       "Mitoitusvelka A: 1pp/1op                                206.0      24.0   \n",
       "Mitoitusvelka B: 1pp/2op                                103.0       8.0   \n",
       "Mitoitusvelka C: 1pp/3op                            68.666667  2.666667   \n",
       "Hankkeella lisättävä runkolukittava kapasiteetti         14.0       NaN   \n",
       "Hankkeella lisättävä runkolukittavien telineide...        7.0       0.0   \n",
       "Hankkeessa poistuvien/korvattavien paikkojen määrä        5.0       0.0   \n",
       "Kokonaiskapasiteetti hankkeen jälkeen                    29.0       8.0   \n",
       "Runkolukittavat paikat hankkeen jälkeen                  14.0       8.0   \n",
       "\n",
       "                                                          76         117  \n",
       "Koulu_ID                                                  198        170  \n",
       "Pyöräpysäköintipaikkojen lukumäärä                       70.0       20.0  \n",
       "Runkolukittavien pyöräpysäköintipaikkojen määrä           0.0        0.0  \n",
       "Oppilasmäärä                                            137.0       95.0  \n",
       "Mitoitusvelka A: 1pp/1op                                137.0       95.0  \n",
       "Mitoitusvelka B: 1pp/2op                                 68.5       47.5  \n",
       "Mitoitusvelka C: 1pp/3op                            45.666667  31.666667  \n",
       "Hankkeella lisättävä runkolukittava kapasiteetti         66.0        NaN  \n",
       "Hankkeella lisättävä runkolukittavien telineide...       33.0        0.0  \n",
       "Hankkeessa poistuvien/korvattavien paikkojen määrä       45.0        0.0  \n",
       "Kokonaiskapasiteetti hankkeen jälkeen                    91.0       20.0  \n",
       "Runkolukittavat paikat hankkeen jälkeen                  66.0        0.0  "
      ]
     },
     "execution_count": 3,
     "metadata": {},
     "output_type": "execute_result"
    }
   ],
   "source": [
    "pyora_df.sample(4).T"
   ]
  },
  {
   "cell_type": "code",
   "execution_count": 4,
   "metadata": {
    "gather": {
     "logged": 1701940424543
    },
    "jupyter": {
     "outputs_hidden": false,
     "source_hidden": false
    },
    "nteract": {
     "transient": {
      "deleting": false
     }
    }
   },
   "outputs": [
    {
     "data": {
      "text/html": [
       "<div>\n",
       "<style scoped>\n",
       "    .dataframe tbody tr th:only-of-type {\n",
       "        vertical-align: middle;\n",
       "    }\n",
       "\n",
       "    .dataframe tbody tr th {\n",
       "        vertical-align: top;\n",
       "    }\n",
       "\n",
       "    .dataframe thead th {\n",
       "        text-align: right;\n",
       "    }\n",
       "</style>\n",
       "<table border=\"1\" class=\"dataframe\">\n",
       "  <thead>\n",
       "    <tr style=\"text-align: right;\">\n",
       "      <th></th>\n",
       "      <th>29</th>\n",
       "      <th>18</th>\n",
       "      <th>86</th>\n",
       "      <th>47</th>\n",
       "    </tr>\n",
       "  </thead>\n",
       "  <tbody>\n",
       "    <tr>\n",
       "      <th>Koulu_ID</th>\n",
       "      <td>130</td>\n",
       "      <td>119</td>\n",
       "      <td>187</td>\n",
       "      <td>148</td>\n",
       "    </tr>\n",
       "    <tr>\n",
       "      <th>Palvelu</th>\n",
       "      <td>Suomenkielinen</td>\n",
       "      <td>Suomenkielinen</td>\n",
       "      <td>Suomenkielinen</td>\n",
       "      <td>Suomenkielinen</td>\n",
       "    </tr>\n",
       "    <tr>\n",
       "      <th>Alue</th>\n",
       "      <td>5</td>\n",
       "      <td>2</td>\n",
       "      <td>7</td>\n",
       "      <td>3</td>\n",
       "    </tr>\n",
       "    <tr>\n",
       "      <th>SES-indeksi</th>\n",
       "      <td>137.0</td>\n",
       "      <td>109.0</td>\n",
       "      <td>117.0</td>\n",
       "      <td>82.0</td>\n",
       "    </tr>\n",
       "    <tr>\n",
       "      <th>Liikunnan painotettu opetus (1=kyllä, tyhjä=ei)</th>\n",
       "      <td>NaN</td>\n",
       "      <td>NaN</td>\n",
       "      <td>NaN</td>\n",
       "      <td>1.0</td>\n",
       "    </tr>\n",
       "    <tr>\n",
       "      <th>Vuosi</th>\n",
       "      <td>2022-09-20 00:00:00</td>\n",
       "      <td>2022-09-20 00:00:00</td>\n",
       "      <td>2022-09-20 00:00:00</td>\n",
       "      <td>2022-09-20 00:00:00</td>\n",
       "    </tr>\n",
       "    <tr>\n",
       "      <th>lk 1</th>\n",
       "      <td>77.0</td>\n",
       "      <td>54.0</td>\n",
       "      <td>120.0</td>\n",
       "      <td>101.0</td>\n",
       "    </tr>\n",
       "    <tr>\n",
       "      <th>lk 2</th>\n",
       "      <td>75.0</td>\n",
       "      <td>52.0</td>\n",
       "      <td>114.0</td>\n",
       "      <td>88.0</td>\n",
       "    </tr>\n",
       "    <tr>\n",
       "      <th>lk 3</th>\n",
       "      <td>75.0</td>\n",
       "      <td>48.0</td>\n",
       "      <td>124.0</td>\n",
       "      <td>78.0</td>\n",
       "    </tr>\n",
       "    <tr>\n",
       "      <th>lk 4</th>\n",
       "      <td>94.0</td>\n",
       "      <td>48.0</td>\n",
       "      <td>105.0</td>\n",
       "      <td>72.0</td>\n",
       "    </tr>\n",
       "    <tr>\n",
       "      <th>lk 5</th>\n",
       "      <td>77.0</td>\n",
       "      <td>43.0</td>\n",
       "      <td>126.0</td>\n",
       "      <td>64.0</td>\n",
       "    </tr>\n",
       "    <tr>\n",
       "      <th>lk 6</th>\n",
       "      <td>77.0</td>\n",
       "      <td>45.0</td>\n",
       "      <td>106.0</td>\n",
       "      <td>64.0</td>\n",
       "    </tr>\n",
       "    <tr>\n",
       "      <th>lk 7</th>\n",
       "      <td>78.0</td>\n",
       "      <td>NaN</td>\n",
       "      <td>89.0</td>\n",
       "      <td>94.0</td>\n",
       "    </tr>\n",
       "    <tr>\n",
       "      <th>lk 8</th>\n",
       "      <td>72.0</td>\n",
       "      <td>NaN</td>\n",
       "      <td>103.0</td>\n",
       "      <td>90.0</td>\n",
       "    </tr>\n",
       "    <tr>\n",
       "      <th>lk 9</th>\n",
       "      <td>NaN</td>\n",
       "      <td>NaN</td>\n",
       "      <td>113.0</td>\n",
       "      <td>69.0</td>\n",
       "    </tr>\n",
       "    <tr>\n",
       "      <th>lk 1-6</th>\n",
       "      <td>475</td>\n",
       "      <td>290</td>\n",
       "      <td>695</td>\n",
       "      <td>467</td>\n",
       "    </tr>\n",
       "    <tr>\n",
       "      <th>lk 7-9</th>\n",
       "      <td>150</td>\n",
       "      <td>0</td>\n",
       "      <td>305</td>\n",
       "      <td>253</td>\n",
       "    </tr>\n",
       "    <tr>\n",
       "      <th>lk 1-9</th>\n",
       "      <td>625</td>\n",
       "      <td>290</td>\n",
       "      <td>1000</td>\n",
       "      <td>720</td>\n",
       "    </tr>\n",
       "    <tr>\n",
       "      <th>Opiskelijamäärä yhteensä</th>\n",
       "      <td>625</td>\n",
       "      <td>290</td>\n",
       "      <td>1000</td>\n",
       "      <td>720</td>\n",
       "    </tr>\n",
       "  </tbody>\n",
       "</table>\n",
       "</div>"
      ],
      "text/plain": [
       "                                                                  29  \\\n",
       "Koulu_ID                                                         130   \n",
       "Palvelu                                               Suomenkielinen   \n",
       "Alue                                                               5   \n",
       "SES-indeksi                                                    137.0   \n",
       "Liikunnan painotettu opetus (1=kyllä, tyhjä=ei)                  NaN   \n",
       "Vuosi                                            2022-09-20 00:00:00   \n",
       "lk 1                                                            77.0   \n",
       "lk 2                                                            75.0   \n",
       "lk 3                                                            75.0   \n",
       "lk 4                                                            94.0   \n",
       "lk 5                                                            77.0   \n",
       "lk 6                                                            77.0   \n",
       "lk 7                                                            78.0   \n",
       "lk 8                                                            72.0   \n",
       "lk 9                                                             NaN   \n",
       "lk 1-6                                                           475   \n",
       "lk 7-9                                                           150   \n",
       "lk 1-9                                                           625   \n",
       "Opiskelijamäärä yhteensä                                         625   \n",
       "\n",
       "                                                                  18  \\\n",
       "Koulu_ID                                                         119   \n",
       "Palvelu                                               Suomenkielinen   \n",
       "Alue                                                               2   \n",
       "SES-indeksi                                                    109.0   \n",
       "Liikunnan painotettu opetus (1=kyllä, tyhjä=ei)                  NaN   \n",
       "Vuosi                                            2022-09-20 00:00:00   \n",
       "lk 1                                                            54.0   \n",
       "lk 2                                                            52.0   \n",
       "lk 3                                                            48.0   \n",
       "lk 4                                                            48.0   \n",
       "lk 5                                                            43.0   \n",
       "lk 6                                                            45.0   \n",
       "lk 7                                                             NaN   \n",
       "lk 8                                                             NaN   \n",
       "lk 9                                                             NaN   \n",
       "lk 1-6                                                           290   \n",
       "lk 7-9                                                             0   \n",
       "lk 1-9                                                           290   \n",
       "Opiskelijamäärä yhteensä                                         290   \n",
       "\n",
       "                                                                  86  \\\n",
       "Koulu_ID                                                         187   \n",
       "Palvelu                                               Suomenkielinen   \n",
       "Alue                                                               7   \n",
       "SES-indeksi                                                    117.0   \n",
       "Liikunnan painotettu opetus (1=kyllä, tyhjä=ei)                  NaN   \n",
       "Vuosi                                            2022-09-20 00:00:00   \n",
       "lk 1                                                           120.0   \n",
       "lk 2                                                           114.0   \n",
       "lk 3                                                           124.0   \n",
       "lk 4                                                           105.0   \n",
       "lk 5                                                           126.0   \n",
       "lk 6                                                           106.0   \n",
       "lk 7                                                            89.0   \n",
       "lk 8                                                           103.0   \n",
       "lk 9                                                           113.0   \n",
       "lk 1-6                                                           695   \n",
       "lk 7-9                                                           305   \n",
       "lk 1-9                                                          1000   \n",
       "Opiskelijamäärä yhteensä                                        1000   \n",
       "\n",
       "                                                                  47  \n",
       "Koulu_ID                                                         148  \n",
       "Palvelu                                               Suomenkielinen  \n",
       "Alue                                                               3  \n",
       "SES-indeksi                                                     82.0  \n",
       "Liikunnan painotettu opetus (1=kyllä, tyhjä=ei)                  1.0  \n",
       "Vuosi                                            2022-09-20 00:00:00  \n",
       "lk 1                                                           101.0  \n",
       "lk 2                                                            88.0  \n",
       "lk 3                                                            78.0  \n",
       "lk 4                                                            72.0  \n",
       "lk 5                                                            64.0  \n",
       "lk 6                                                            64.0  \n",
       "lk 7                                                            94.0  \n",
       "lk 8                                                            90.0  \n",
       "lk 9                                                            69.0  \n",
       "lk 1-6                                                           467  \n",
       "lk 7-9                                                           253  \n",
       "lk 1-9                                                           720  \n",
       "Opiskelijamäärä yhteensä                                         720  "
      ]
     },
     "execution_count": 4,
     "metadata": {},
     "output_type": "execute_result"
    }
   ],
   "source": [
    "perus_df.sample(4).T"
   ]
  },
  {
   "cell_type": "code",
   "execution_count": 5,
   "metadata": {
    "gather": {
     "logged": 1701940424730
    },
    "jupyter": {
     "outputs_hidden": false,
     "source_hidden": false
    },
    "nteract": {
     "transient": {
      "deleting": false
     }
    }
   },
   "outputs": [
    {
     "data": {
      "text/html": [
       "<div>\n",
       "<style scoped>\n",
       "    .dataframe tbody tr th:only-of-type {\n",
       "        vertical-align: middle;\n",
       "    }\n",
       "\n",
       "    .dataframe tbody tr th {\n",
       "        vertical-align: top;\n",
       "    }\n",
       "\n",
       "    .dataframe thead th {\n",
       "        text-align: right;\n",
       "    }\n",
       "</style>\n",
       "<table border=\"1\" class=\"dataframe\">\n",
       "  <thead>\n",
       "    <tr style=\"text-align: right;\">\n",
       "      <th></th>\n",
       "      <th>45</th>\n",
       "      <th>46</th>\n",
       "      <th>26</th>\n",
       "      <th>44</th>\n",
       "    </tr>\n",
       "  </thead>\n",
       "  <tbody>\n",
       "    <tr>\n",
       "      <th>Koulu_ID</th>\n",
       "      <td>196</td>\n",
       "      <td>139</td>\n",
       "      <td>121</td>\n",
       "      <td>138</td>\n",
       "    </tr>\n",
       "    <tr>\n",
       "      <th>Toimintasuunnitelmaan 2022-2023 valitut liikkumista edistävät toimenpiteet</th>\n",
       "      <td>Verksamhetsplan: \\n\\n-Move-mätningar genomförs...</td>\n",
       "      <td>Koulussa edistetään liikunnallista toimintakul...</td>\n",
       "      <td>Opetuksessa painotetaan toiminnallisuutta, mik...</td>\n",
       "      <td>Itä-Pakilan toimipisteessä iltapäivätoimintaa ...</td>\n",
       "    </tr>\n",
       "    <tr>\n",
       "      <th>Toiminnan organisoiminen</th>\n",
       "      <td>NaN</td>\n",
       "      <td>1.0</td>\n",
       "      <td>1.0</td>\n",
       "      <td>1.0</td>\n",
       "    </tr>\n",
       "    <tr>\n",
       "      <th>Oppilaiden osallisuus</th>\n",
       "      <td>NaN</td>\n",
       "      <td>1.0</td>\n",
       "      <td>0.0</td>\n",
       "      <td>0.0</td>\n",
       "    </tr>\n",
       "    <tr>\n",
       "      <th>Koulumatkat</th>\n",
       "      <td>NaN</td>\n",
       "      <td>0.0</td>\n",
       "      <td>0.0</td>\n",
       "      <td>0.0</td>\n",
       "    </tr>\n",
       "    <tr>\n",
       "      <th>Välitunnit</th>\n",
       "      <td>NaN</td>\n",
       "      <td>1.0</td>\n",
       "      <td>1.0</td>\n",
       "      <td>0.0</td>\n",
       "    </tr>\n",
       "    <tr>\n",
       "      <th>Koulun pihat, tilat ja ympäristö</th>\n",
       "      <td>NaN</td>\n",
       "      <td>0.0</td>\n",
       "      <td>0.0</td>\n",
       "      <td>0.0</td>\n",
       "    </tr>\n",
       "    <tr>\n",
       "      <th>Kerhotoiminta</th>\n",
       "      <td>NaN</td>\n",
       "      <td>0.0</td>\n",
       "      <td>0.0</td>\n",
       "      <td>0.0</td>\n",
       "    </tr>\n",
       "    <tr>\n",
       "      <th>Henkilökunnan osallistuminen, osaaminen ja hyvinvointi</th>\n",
       "      <td>NaN</td>\n",
       "      <td>0.0</td>\n",
       "      <td>0.0</td>\n",
       "      <td>0.0</td>\n",
       "    </tr>\n",
       "    <tr>\n",
       "      <th>Oppitunnit, opetuskäytännöt ja oppimisympäristöt</th>\n",
       "      <td>NaN</td>\n",
       "      <td>1.0</td>\n",
       "      <td>1.0</td>\n",
       "      <td>0.0</td>\n",
       "    </tr>\n",
       "    <tr>\n",
       "      <th>Yhteistyö oppilaiden liikkumisen edistämiseksi</th>\n",
       "      <td>NaN</td>\n",
       "      <td>0.0</td>\n",
       "      <td>0.0</td>\n",
       "      <td>0.0</td>\n",
       "    </tr>\n",
       "  </tbody>\n",
       "</table>\n",
       "</div>"
      ],
      "text/plain": [
       "                                                                                                   45  \\\n",
       "Koulu_ID                                                                                          196   \n",
       "Toimintasuunnitelmaan 2022-2023 valitut liikkum...  Verksamhetsplan: \\n\\n-Move-mätningar genomförs...   \n",
       "Toiminnan organisoiminen                                                                          NaN   \n",
       "Oppilaiden osallisuus                                                                             NaN   \n",
       "Koulumatkat                                                                                       NaN   \n",
       "Välitunnit                                                                                        NaN   \n",
       "Koulun pihat, tilat ja ympäristö                                                                  NaN   \n",
       "Kerhotoiminta                                                                                     NaN   \n",
       "Henkilökunnan osallistuminen, osaaminen ja hyvi...                                                NaN   \n",
       "Oppitunnit, opetuskäytännöt ja oppimisympäristöt                                                  NaN   \n",
       "Yhteistyö oppilaiden liikkumisen edistämiseksi                                                    NaN   \n",
       "\n",
       "                                                                                                   46  \\\n",
       "Koulu_ID                                                                                          139   \n",
       "Toimintasuunnitelmaan 2022-2023 valitut liikkum...  Koulussa edistetään liikunnallista toimintakul...   \n",
       "Toiminnan organisoiminen                                                                          1.0   \n",
       "Oppilaiden osallisuus                                                                             1.0   \n",
       "Koulumatkat                                                                                       0.0   \n",
       "Välitunnit                                                                                        1.0   \n",
       "Koulun pihat, tilat ja ympäristö                                                                  0.0   \n",
       "Kerhotoiminta                                                                                     0.0   \n",
       "Henkilökunnan osallistuminen, osaaminen ja hyvi...                                                0.0   \n",
       "Oppitunnit, opetuskäytännöt ja oppimisympäristöt                                                  1.0   \n",
       "Yhteistyö oppilaiden liikkumisen edistämiseksi                                                    0.0   \n",
       "\n",
       "                                                                                                   26  \\\n",
       "Koulu_ID                                                                                          121   \n",
       "Toimintasuunnitelmaan 2022-2023 valitut liikkum...  Opetuksessa painotetaan toiminnallisuutta, mik...   \n",
       "Toiminnan organisoiminen                                                                          1.0   \n",
       "Oppilaiden osallisuus                                                                             0.0   \n",
       "Koulumatkat                                                                                       0.0   \n",
       "Välitunnit                                                                                        1.0   \n",
       "Koulun pihat, tilat ja ympäristö                                                                  0.0   \n",
       "Kerhotoiminta                                                                                     0.0   \n",
       "Henkilökunnan osallistuminen, osaaminen ja hyvi...                                                0.0   \n",
       "Oppitunnit, opetuskäytännöt ja oppimisympäristöt                                                  1.0   \n",
       "Yhteistyö oppilaiden liikkumisen edistämiseksi                                                    0.0   \n",
       "\n",
       "                                                                                                   44  \n",
       "Koulu_ID                                                                                          138  \n",
       "Toimintasuunnitelmaan 2022-2023 valitut liikkum...  Itä-Pakilan toimipisteessä iltapäivätoimintaa ...  \n",
       "Toiminnan organisoiminen                                                                          1.0  \n",
       "Oppilaiden osallisuus                                                                             0.0  \n",
       "Koulumatkat                                                                                       0.0  \n",
       "Välitunnit                                                                                        0.0  \n",
       "Koulun pihat, tilat ja ympäristö                                                                  0.0  \n",
       "Kerhotoiminta                                                                                     0.0  \n",
       "Henkilökunnan osallistuminen, osaaminen ja hyvi...                                                0.0  \n",
       "Oppitunnit, opetuskäytännöt ja oppimisympäristöt                                                  0.0  \n",
       "Yhteistyö oppilaiden liikkumisen edistämiseksi                                                    0.0  "
      ]
     },
     "execution_count": 5,
     "metadata": {},
     "output_type": "execute_result"
    }
   ],
   "source": [
    "toiminta_df.sample(4).T"
   ]
  },
  {
   "cell_type": "code",
   "execution_count": 6,
   "metadata": {
    "gather": {
     "logged": 1701940907504
    },
    "jupyter": {
     "outputs_hidden": false,
     "source_hidden": false
    },
    "nteract": {
     "transient": {
      "deleting": false
     }
    }
   },
   "outputs": [
    {
     "data": {
      "text/html": [
       "<div>\n",
       "<style scoped>\n",
       "    .dataframe tbody tr th:only-of-type {\n",
       "        vertical-align: middle;\n",
       "    }\n",
       "\n",
       "    .dataframe tbody tr th {\n",
       "        vertical-align: top;\n",
       "    }\n",
       "\n",
       "    .dataframe thead th {\n",
       "        text-align: right;\n",
       "    }\n",
       "</style>\n",
       "<table border=\"1\" class=\"dataframe\">\n",
       "  <thead>\n",
       "    <tr style=\"text-align: right;\">\n",
       "      <th></th>\n",
       "      <th>SES-indeksi</th>\n",
       "      <th>Mitoitusvelka B: 1pp/2op</th>\n",
       "      <th>Koulun pihat, tilat ja ympäristö</th>\n",
       "    </tr>\n",
       "  </thead>\n",
       "  <tbody>\n",
       "    <tr>\n",
       "      <th>81</th>\n",
       "      <td>123.0</td>\n",
       "      <td>50.5</td>\n",
       "      <td>0.0</td>\n",
       "    </tr>\n",
       "    <tr>\n",
       "      <th>103</th>\n",
       "      <td>NaN</td>\n",
       "      <td>34.5</td>\n",
       "      <td>1.0</td>\n",
       "    </tr>\n",
       "    <tr>\n",
       "      <th>84</th>\n",
       "      <td>54.0</td>\n",
       "      <td>38.5</td>\n",
       "      <td>1.0</td>\n",
       "    </tr>\n",
       "  </tbody>\n",
       "</table>\n",
       "</div>"
      ],
      "text/plain": [
       "     SES-indeksi  Mitoitusvelka B: 1pp/2op  Koulun pihat, tilat ja ympäristö\n",
       "81         123.0                      50.5                               0.0\n",
       "103          NaN                      34.5                               1.0\n",
       "84          54.0                      38.5                               1.0"
      ]
     },
     "execution_count": 6,
     "metadata": {},
     "output_type": "execute_result"
    }
   ],
   "source": [
    "xx = pd.DataFrame(perus_df,columns=['Koulu_ID','SES-indeksi'])\n",
    "\n",
    "yy = pd.DataFrame(pyora_df,columns=['Koulu_ID','Mitoitusvelka B: 1pp/2op'])\n",
    "\n",
    "m = xx.merge(yy,left_on='Koulu_ID',right_on='Koulu_ID')\n",
    "m = m.merge(pd.DataFrame(toiminta_df,columns=['Koulu_ID','Koulun pihat, tilat ja ympäristö']),left_on='Koulu_ID',right_on='Koulu_ID')\n",
    "m.drop(columns='Koulu_ID',inplace=True)\n",
    "m.sample(3)"
   ]
  },
  {
   "cell_type": "code",
   "execution_count": 7,
   "metadata": {
    "gather": {
     "logged": 1701940915771
    },
    "jupyter": {
     "outputs_hidden": false,
     "source_hidden": false
    },
    "nteract": {
     "transient": {
      "deleting": false
     }
    }
   },
   "outputs": [
    {
     "data": {
      "text/plain": [
       "<seaborn.axisgrid.PairGrid at 0x7fe5ab512830>"
      ]
     },
     "execution_count": 7,
     "metadata": {},
     "output_type": "execute_result"
    },
    {
     "data": {
      "image/png": "[encoded data removed]",
      "text/plain": [
       "<Figure size 521.75x360 with 6 Axes>"
      ]
     },
     "metadata": {
      "needs_background": "light"
     },
     "output_type": "display_data"
    }
   ],
   "source": [
    "sns.pairplot(m, hue='Koulun pihat, tilat ja ympäristö')"
   ]
  }
 ],
 "metadata": {
  "kernel_info": {
   "name": "python38-azureml"
  },
  "kernelspec": {
   "display_name": "Python 3 (ipykernel)",
   "language": "python",
   "name": "python3"
  },
  "language_info": {
   "codemirror_mode": {
    "name": "ipython",
    "version": 3
   },
   "file_extension": ".py",
   "mimetype": "text/x-python",
   "name": "python",
   "nbconvert_exporter": "python",
   "pygments_lexer": "ipython3",
   "version": "3.10.12"
  },
  "microsoft": {
   "host": {
    "AzureML": {
     "notebookHasBeenCompleted": true
    }
   },
   "ms_spell_check": {
    "ms_spell_check_language": "en"
   }
  },
  "nteract": {
   "version": "nteract-front-end@1.0.0"
  }
 },
 "nbformat": 4,
 "nbformat_minor": 2
}
